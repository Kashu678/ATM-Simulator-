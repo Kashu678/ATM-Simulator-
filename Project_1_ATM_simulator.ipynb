{
  "nbformat": 4,
  "nbformat_minor": 0,
  "metadata": {
    "colab": {
      "provenance": []
    },
    "kernelspec": {
      "name": "python3",
      "display_name": "Python 3"
    },
    "language_info": {
      "name": "python"
    }
  },
  "cells": [
    {
      "cell_type": "markdown",
      "source": [
        "# **Python Project: ATM Simulator **\n",
        "\n",
        " *Defining the class or method for the ATM simulator functionality.\n",
        " *Defining multiple conditions for selecting at least 4 ATM functionalities.\n",
        " *Defining the main method and calling the class or method in the main method.\n",
        "\n"
      ],
      "metadata": {
        "id": "DwHN-IbCYdKb"
      }
    },
    {
      "cell_type": "code",
      "execution_count": null,
      "metadata": {
        "colab": {
          "base_uri": "https://localhost:8080/"
        },
        "id": "GF9Xlm0NW0t6",
        "outputId": "c2c4164e-d583-43e3-aa82-4553cd6034e8"
      },
      "outputs": [
        {
          "output_type": "stream",
          "name": "stdout",
          "text": [
            "\n",
            "            ****Welcome to the ATM Simulator******\n",
            "              \n",
            "Enter your PIN: 5678\n",
            "\n",
            "1. Check Balance\n",
            "2. Withdraw Amount\n",
            "3. Deposit\n",
            "4. Exit\n",
            "Enter your choice: 1\n",
            "Your balance is Rs. 50000\n",
            "\n",
            "1. Check Balance\n",
            "2. Withdraw Amount\n",
            "3. Deposit\n",
            "4. Exit\n",
            "Enter your choice: 2\n",
            "Enter amount to withdraw: 60000\n",
            "Insufficient Balance\n",
            "\n",
            "1. Check Balance\n",
            "2. Withdraw Amount\n",
            "3. Deposit\n",
            "4. Exit\n",
            "Enter your choice: 3\n",
            "Enter amount to deposit: 1000\n",
            "Rs. 1000 deposited. Current balance is Rs. 51000\n",
            "\n",
            "1. Check Balance\n",
            "2. Withdraw Amount\n",
            "3. Deposit\n",
            "4. Exit\n",
            "Enter your choice: 4\n",
            "Thank you for using the ATM. Have a nice day!\n"
          ]
        }
      ],
      "source": [
        "class ATM:\n",
        "    def __init__(self):\n",
        "        self.balance = 50000\n",
        "        self.pin = \"5678\"\n",
        "        print('''\n",
        "            ****Welcome to the ATM Simulator******\n",
        "              ''')\n",
        "\n",
        "    def check_balance(self):\n",
        "        print(\"Your balance is Rs.\", self.balance)\n",
        "\n",
        "    def withdraw(self, amount):\n",
        "        if amount > self.balance:\n",
        "            print(\"Insufficient Balance\")\n",
        "        else:\n",
        "            self.balance -= amount\n",
        "            print(\"Rs.\", amount, \"withdrawn. Remaining balance is Rs.\", self.balance)\n",
        "\n",
        "    def deposit(self, amount):\n",
        "        self.balance += amount\n",
        "        print(\"Rs.\", amount, \"deposited. Current balance is Rs.\", self.balance)\n",
        "\n",
        "    def Main(self):\n",
        "        pin_enter = input(\"Enter your PIN: \")\n",
        "\n",
        "        if pin_enter == self.pin:\n",
        "            while True:\n",
        "                print(\"\\n1. Check Balance\")\n",
        "                print(\"2. Withdraw Amount\")\n",
        "                print(\"3. Deposit\")\n",
        "                print(\"4. Exit\")\n",
        "                choice = input(\"Enter your choice: \")\n",
        "\n",
        "                if choice == \"1\":\n",
        "                    self.check_balance()\n",
        "                elif choice == \"2\":\n",
        "                    amount = int(input(\"Enter amount to withdraw: \"))\n",
        "                    self.withdraw(amount)\n",
        "                elif choice == \"3\":\n",
        "                    amount = int(input(\"Enter amount to deposit: \"))\n",
        "                    self.deposit(amount)\n",
        "                elif choice == \"4\":\n",
        "                    print(\"Thank you for using the ATM. Have a nice day!\")\n",
        "                    break\n",
        "                else:\n",
        "                    print(\"Invalid choice\")\n",
        "        else:\n",
        "            print(\"Invalid PIN, Please try again Thank you!!\")\n",
        "\n",
        "\n",
        "if __name__ == \"__main__\":\n",
        "    atm = ATM()\n",
        "    atm.Main()"
      ]
    },
    {
      "cell_type": "code",
      "source": [],
      "metadata": {
        "id": "5DDPUew1W2vC"
      },
      "execution_count": null,
      "outputs": []
    }
  ]
}